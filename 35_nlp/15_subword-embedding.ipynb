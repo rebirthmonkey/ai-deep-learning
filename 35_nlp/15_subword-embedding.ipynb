{
 "cells": [
  {
   "cell_type": "markdown",
   "id": "32c47c0d",
   "metadata": {
    "origin_pos": 0
   },
   "source": [
    "# 子词嵌入\n",
    "\n",
    "## 字节对编码（Byte Pair Encoding）\n",
    "\n",
    "首先，我们将符号词表初始化为所有英文小写字符、特殊的词尾符号`'_'`和特殊的未知符号`'[UNK]'`。\n"
   ]
  },
  {
   "cell_type": "code",
   "execution_count": 1,
   "id": "67c1bcf1",
   "metadata": {
    "execution": {
     "iopub.execute_input": "2022-12-07T16:39:29.336587Z",
     "iopub.status.busy": "2022-12-07T16:39:29.336073Z",
     "iopub.status.idle": "2022-12-07T16:39:29.345284Z",
     "shell.execute_reply": "2022-12-07T16:39:29.344473Z"
    },
    "origin_pos": 1,
    "tab": [
     "pytorch"
    ],
    "ExecuteTime": {
     "end_time": "2023-10-08T01:19:20.894109Z",
     "start_time": "2023-10-08T01:19:20.889281Z"
    }
   },
   "outputs": [],
   "source": [
    "import collections\n",
    "\n",
    "symbols = ['a', 'b', 'c', 'd', 'e', 'f', 'g', 'h', 'i', 'j', 'k', 'l', 'm',\n",
    "           'n', 'o', 'p', 'q', 'r', 's', 't', 'u', 'v', 'w', 'x', 'y', 'z',\n",
    "           '_', '[UNK]']"
   ]
  },
  {
   "cell_type": "markdown",
   "id": "30b7e8d6",
   "metadata": {
    "origin_pos": 3
   },
   "source": [
    "因为我们不考虑跨越词边界的符号对，所以我们只需要一个字典`raw_token_freqs`将词映射到数据集中的频率（出现次数）。注意，特殊符号`'_'`被附加到每个词的尾部，以便我们可以容易地从输出符号序列（例如，“a_all er_man”）恢复单词序列（例如，“a_all er_man”）。由于我们仅从单个字符和特殊符号的词开始合并处理，所以在每个词（词典`token_freqs`的键）内的每对连续字符之间插入空格。换句话说，空格是词中符号之间的分隔符。\n"
   ]
  },
  {
   "cell_type": "code",
   "execution_count": 2,
   "id": "ac730e3a",
   "metadata": {
    "execution": {
     "iopub.execute_input": "2022-12-07T16:39:29.348519Z",
     "iopub.status.busy": "2022-12-07T16:39:29.348128Z",
     "iopub.status.idle": "2022-12-07T16:39:29.359891Z",
     "shell.execute_reply": "2022-12-07T16:39:29.359143Z"
    },
    "origin_pos": 4,
    "tab": [
     "pytorch"
    ],
    "ExecuteTime": {
     "end_time": "2023-10-08T01:19:22.326907Z",
     "start_time": "2023-10-08T01:19:22.320703Z"
    }
   },
   "outputs": [
    {
     "data": {
      "text/plain": "{'f a s t _': 4, 'f a s t e r _': 3, 't a l l _': 5, 't a l l e r _': 4}"
     },
     "execution_count": 2,
     "metadata": {},
     "output_type": "execute_result"
    }
   ],
   "source": [
    "raw_token_freqs = {'fast_': 4, 'faster_': 3, 'tall_': 5, 'taller_': 4}\n",
    "token_freqs = {}\n",
    "for token, freq in raw_token_freqs.items():\n",
    "    token_freqs[' '.join(list(token))] = raw_token_freqs[token]\n",
    "token_freqs"
   ]
  },
  {
   "cell_type": "markdown",
   "id": "4c6b1ccf",
   "metadata": {
    "origin_pos": 5
   },
   "source": [
    "我们定义以下`get_max_freq_pair`函数，其返回词内最频繁的连续符号对，其中词来自输入词典`token_freqs`的键。\n"
   ]
  },
  {
   "cell_type": "code",
   "execution_count": 3,
   "id": "47d9ee15",
   "metadata": {
    "execution": {
     "iopub.execute_input": "2022-12-07T16:39:29.363175Z",
     "iopub.status.busy": "2022-12-07T16:39:29.362744Z",
     "iopub.status.idle": "2022-12-07T16:39:29.367929Z",
     "shell.execute_reply": "2022-12-07T16:39:29.367094Z"
    },
    "origin_pos": 6,
    "tab": [
     "pytorch"
    ],
    "ExecuteTime": {
     "end_time": "2023-10-08T01:19:27.326952Z",
     "start_time": "2023-10-08T01:19:27.320494Z"
    }
   },
   "outputs": [],
   "source": [
    "def get_max_freq_pair(token_freqs):\n",
    "    pairs = collections.defaultdict(int)\n",
    "    for token, freq in token_freqs.items():\n",
    "        symbols = token.split()\n",
    "        for i in range(len(symbols) - 1):\n",
    "            # “pairs”的键是两个连续符号的元组\n",
    "            pairs[symbols[i], symbols[i + 1]] += freq\n",
    "    return max(pairs, key=pairs.get)  # 具有最大值的“pairs”键"
   ]
  },
  {
   "cell_type": "markdown",
   "id": "a49898ed",
   "metadata": {
    "origin_pos": 7
   },
   "source": [
    "作为基于连续符号频率的贪心方法，字节对编码将使用以下`merge_symbols`函数来合并最频繁的连续符号对以产生新符号。\n"
   ]
  },
  {
   "cell_type": "code",
   "execution_count": 4,
   "id": "0991cc1e",
   "metadata": {
    "execution": {
     "iopub.execute_input": "2022-12-07T16:39:29.371914Z",
     "iopub.status.busy": "2022-12-07T16:39:29.371298Z",
     "iopub.status.idle": "2022-12-07T16:39:29.376129Z",
     "shell.execute_reply": "2022-12-07T16:39:29.375343Z"
    },
    "origin_pos": 8,
    "tab": [
     "pytorch"
    ],
    "ExecuteTime": {
     "end_time": "2023-10-08T01:19:28.846470Z",
     "start_time": "2023-10-08T01:19:28.828733Z"
    }
   },
   "outputs": [],
   "source": [
    "def merge_symbols(max_freq_pair, token_freqs, symbols):\n",
    "    symbols.append(''.join(max_freq_pair))\n",
    "    new_token_freqs = dict()\n",
    "    for token, freq in token_freqs.items():\n",
    "        new_token = token.replace(' '.join(max_freq_pair),\n",
    "                                  ''.join(max_freq_pair))\n",
    "        new_token_freqs[new_token] = token_freqs[token]\n",
    "    return new_token_freqs"
   ]
  },
  {
   "cell_type": "markdown",
   "id": "8acec792",
   "metadata": {
    "origin_pos": 9
   },
   "source": [
    "现在，我们对词典`token_freqs`的键迭代地执行字节对编码算法。在第一次迭代中，最频繁的连续符号对是`'t'`和`'a'`，因此字节对编码将它们合并以产生新符号`'ta'`。在第二次迭代中，字节对编码继续合并`'ta'`和`'l'`以产生另一个新符号`'tal'`。\n"
   ]
  },
  {
   "cell_type": "code",
   "execution_count": 5,
   "id": "8e9575f4",
   "metadata": {
    "execution": {
     "iopub.execute_input": "2022-12-07T16:39:29.380282Z",
     "iopub.status.busy": "2022-12-07T16:39:29.379477Z",
     "iopub.status.idle": "2022-12-07T16:39:29.386900Z",
     "shell.execute_reply": "2022-12-07T16:39:29.385690Z"
    },
    "origin_pos": 10,
    "tab": [
     "pytorch"
    ],
    "ExecuteTime": {
     "end_time": "2023-10-08T01:19:31.289089Z",
     "start_time": "2023-10-08T01:19:31.276714Z"
    }
   },
   "outputs": [
    {
     "name": "stdout",
     "output_type": "stream",
     "text": [
      "合并# 1: ('t', 'a')\n",
      "合并# 2: ('ta', 'l')\n",
      "合并# 3: ('tal', 'l')\n",
      "合并# 4: ('f', 'a')\n",
      "合并# 5: ('fa', 's')\n",
      "合并# 6: ('fas', 't')\n",
      "合并# 7: ('e', 'r')\n",
      "合并# 8: ('er', '_')\n",
      "合并# 9: ('tall', '_')\n",
      "合并# 10: ('fast', '_')\n"
     ]
    }
   ],
   "source": [
    "num_merges = 10\n",
    "for i in range(num_merges):\n",
    "    max_freq_pair = get_max_freq_pair(token_freqs)\n",
    "    token_freqs = merge_symbols(max_freq_pair, token_freqs, symbols)\n",
    "    print(f'合并# {i+1}:',max_freq_pair)"
   ]
  },
  {
   "cell_type": "markdown",
   "id": "d0832758",
   "metadata": {
    "origin_pos": 11
   },
   "source": [
    "在字节对编码的10次迭代之后，我们可以看到列表`symbols`现在又包含10个从其他符号迭代合并而来的符号。\n"
   ]
  },
  {
   "cell_type": "code",
   "execution_count": 6,
   "id": "1fafecb6",
   "metadata": {
    "execution": {
     "iopub.execute_input": "2022-12-07T16:39:29.391256Z",
     "iopub.status.busy": "2022-12-07T16:39:29.390428Z",
     "iopub.status.idle": "2022-12-07T16:39:29.395996Z",
     "shell.execute_reply": "2022-12-07T16:39:29.395072Z"
    },
    "origin_pos": 12,
    "tab": [
     "pytorch"
    ],
    "ExecuteTime": {
     "end_time": "2023-10-08T01:19:33.357408Z",
     "start_time": "2023-10-08T01:19:33.338168Z"
    }
   },
   "outputs": [
    {
     "name": "stdout",
     "output_type": "stream",
     "text": [
      "['a', 'b', 'c', 'd', 'e', 'f', 'g', 'h', 'i', 'j', 'k', 'l', 'm', 'n', 'o', 'p', 'q', 'r', 's', 't', 'u', 'v', 'w', 'x', 'y', 'z', '_', '[UNK]', 'ta', 'tal', 'tall', 'fa', 'fas', 'fast', 'er', 'er_', 'tall_', 'fast_']\n"
     ]
    }
   ],
   "source": [
    "print(symbols)"
   ]
  },
  {
   "cell_type": "markdown",
   "id": "5cf1ee1a",
   "metadata": {
    "origin_pos": 13
   },
   "source": [
    "对于在词典`raw_token_freqs`的键中指定的同一数据集，作为字节对编码算法的结果，数据集中的每个词现在被子词“fast_”“fast”“er_”“tall_”和“tall”分割。例如，单词“fast er_”和“tall er_”分别被分割为“fast er_”和“tall er_”。\n"
   ]
  },
  {
   "cell_type": "code",
   "execution_count": 7,
   "id": "ca72442c",
   "metadata": {
    "execution": {
     "iopub.execute_input": "2022-12-07T16:39:29.399528Z",
     "iopub.status.busy": "2022-12-07T16:39:29.399033Z",
     "iopub.status.idle": "2022-12-07T16:39:29.403882Z",
     "shell.execute_reply": "2022-12-07T16:39:29.402989Z"
    },
    "origin_pos": 14,
    "tab": [
     "pytorch"
    ],
    "ExecuteTime": {
     "end_time": "2023-10-08T01:19:36.114100Z",
     "start_time": "2023-10-08T01:19:36.106028Z"
    }
   },
   "outputs": [
    {
     "name": "stdout",
     "output_type": "stream",
     "text": [
      "['fast_', 'fast er_', 'tall_', 'tall er_']\n"
     ]
    }
   ],
   "source": [
    "print(list(token_freqs.keys()))"
   ]
  },
  {
   "cell_type": "markdown",
   "id": "fd3679d7",
   "metadata": {
    "origin_pos": 15
   },
   "source": [
    "请注意，字节对编码的结果取决于正在使用的数据集。我们还可以使用从一个数据集学习的子词来切分另一个数据集的单词。作为一种贪心方法，下面的`segment_BPE`函数尝试将单词从输入参数`symbols`分成可能最长的子词。\n"
   ]
  },
  {
   "cell_type": "code",
   "execution_count": 8,
   "id": "4f7d3ede",
   "metadata": {
    "execution": {
     "iopub.execute_input": "2022-12-07T16:39:29.408110Z",
     "iopub.status.busy": "2022-12-07T16:39:29.407404Z",
     "iopub.status.idle": "2022-12-07T16:39:29.415517Z",
     "shell.execute_reply": "2022-12-07T16:39:29.414615Z"
    },
    "origin_pos": 16,
    "tab": [
     "pytorch"
    ],
    "ExecuteTime": {
     "end_time": "2023-10-08T01:19:42.651965Z",
     "start_time": "2023-10-08T01:19:42.646260Z"
    }
   },
   "outputs": [],
   "source": [
    "def segment_BPE(tokens, symbols):\n",
    "    outputs = []\n",
    "    for token in tokens:\n",
    "        start, end = 0, len(token)\n",
    "        cur_output = []\n",
    "        # 具有符号中可能最长子字的词元段\n",
    "        while start < len(token) and start < end:\n",
    "            if token[start: end] in symbols:\n",
    "                cur_output.append(token[start: end])\n",
    "                start = end\n",
    "                end = len(token)\n",
    "            else:\n",
    "                end -= 1\n",
    "        if start < len(token):\n",
    "            cur_output.append('[UNK]')\n",
    "        outputs.append(' '.join(cur_output))\n",
    "    return outputs"
   ]
  },
  {
   "cell_type": "markdown",
   "id": "86906aa5",
   "metadata": {
    "origin_pos": 17
   },
   "source": [
    "我们使用列表`symbols`中的子词（从前面提到的数据集学习）来表示另一个数据集的`tokens`。\n"
   ]
  },
  {
   "cell_type": "code",
   "execution_count": 9,
   "id": "728e30b1",
   "metadata": {
    "execution": {
     "iopub.execute_input": "2022-12-07T16:39:29.419172Z",
     "iopub.status.busy": "2022-12-07T16:39:29.418549Z",
     "iopub.status.idle": "2022-12-07T16:39:29.423989Z",
     "shell.execute_reply": "2022-12-07T16:39:29.423019Z"
    },
    "origin_pos": 18,
    "tab": [
     "pytorch"
    ],
    "ExecuteTime": {
     "end_time": "2023-10-08T01:19:45.357937Z",
     "start_time": "2023-10-08T01:19:45.331277Z"
    }
   },
   "outputs": [
    {
     "name": "stdout",
     "output_type": "stream",
     "text": [
      "['tall e s t _', 'fa t t er_']\n"
     ]
    }
   ],
   "source": [
    "tokens = ['tallest_', 'fatter_']\n",
    "print(segment_BPE(tokens, symbols))"
   ]
  }
 ],
 "metadata": {
  "language_info": {
   "name": "python"
  },
  "kernelspec": {
   "name": "python3",
   "language": "python",
   "display_name": "Python 3 (ipykernel)"
  }
 },
 "nbformat": 4,
 "nbformat_minor": 5
}
