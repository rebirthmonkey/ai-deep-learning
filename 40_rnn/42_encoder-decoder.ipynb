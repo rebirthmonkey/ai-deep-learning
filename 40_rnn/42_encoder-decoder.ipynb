{
 "cells": [
  {
   "cell_type": "markdown",
   "id": "f348901b",
   "metadata": {
    "origin_pos": 0
   },
   "source": [
    "# Encoder-Decoder架构\n",
    "\n",
    "## Encoder\n",
    "\n",
    "在Encoder接口中，我们只指定长度可变的序列作为编码器的输入`X`。\n",
    "任何继承这个`Encoder`基类的模型将完成代码实现。"
   ]
  },
  {
   "cell_type": "code",
   "execution_count": 1,
   "id": "198a8db6",
   "metadata": {
    "execution": {
     "iopub.execute_input": "2022-12-07T16:28:28.614295Z",
     "iopub.status.busy": "2022-12-07T16:28:28.613672Z",
     "iopub.status.idle": "2022-12-07T16:28:29.706051Z",
     "shell.execute_reply": "2022-12-07T16:28:29.705245Z"
    },
    "origin_pos": 2,
    "tab": [
     "pytorch"
    ],
    "ExecuteTime": {
     "end_time": "2023-09-01T09:01:51.278667Z",
     "start_time": "2023-09-01T09:01:49.275156Z"
    }
   },
   "outputs": [],
   "source": [
    "from torch import nn\n",
    "\n",
    "\n",
    "#@save\n",
    "class Encoder(nn.Module):\n",
    "    \"\"\"编码器-解码器架构的基本编码器接口\"\"\"\n",
    "    def __init__(self, **kwargs):\n",
    "        super(Encoder, self).__init__(**kwargs)\n",
    "\n",
    "    def forward(self, X, *args):\n",
    "        raise NotImplementedError"
   ]
  },
  {
   "cell_type": "markdown",
   "id": "02f070be",
   "metadata": {
    "origin_pos": 5
   },
   "source": [
    "## Decoder\n",
    "\n",
    "在下面的解码器接口中，我们新增一个`init_state`函数，用于将encoder的输出（`enc_outputs`）转换为编码后的状态。\n",
    "注意，此步骤可能需要额外的输入，例如：输入序列的有效长度。\n",
    "为了逐个地生成长度可变的词元序列，decoder 在每个时间步都会将输入（例如：在前一时间步生成的词元）和 encoder 后的状态映射成当前时间步的输出词元。\n"
   ]
  },
  {
   "cell_type": "code",
   "execution_count": 2,
   "id": "b9ddbe15",
   "metadata": {
    "execution": {
     "iopub.execute_input": "2022-12-07T16:28:29.710127Z",
     "iopub.status.busy": "2022-12-07T16:28:29.709619Z",
     "iopub.status.idle": "2022-12-07T16:28:29.714399Z",
     "shell.execute_reply": "2022-12-07T16:28:29.713720Z"
    },
    "origin_pos": 7,
    "tab": [
     "pytorch"
    ],
    "ExecuteTime": {
     "end_time": "2023-09-01T09:03:20.377081Z",
     "start_time": "2023-09-01T09:03:20.369307Z"
    }
   },
   "outputs": [],
   "source": [
    "#@save\n",
    "class Decoder(nn.Module):\n",
    "    \"\"\"编码器-解码器架构的基本解码器接口\"\"\"\n",
    "    def __init__(self, **kwargs):\n",
    "        super(Decoder, self).__init__(**kwargs)\n",
    "\n",
    "    def init_state(self, enc_outputs, *args):\n",
    "        raise NotImplementedError\n",
    "\n",
    "    def forward(self, X, state):\n",
    "        raise NotImplementedError"
   ]
  },
  {
   "cell_type": "markdown",
   "id": "46e16353",
   "metadata": {
    "origin_pos": 10
   },
   "source": [
    "## 合并Encoder和Decoder\n",
    "\n",
    "总而言之，“encoder-decoder”架构包含了一个encoder和一个decoder，并且还拥有可选的额外的参数。\n",
    "在前向传播中，encoder的输出用于生成编码状态，这个状态又被decoder作为其输入的一部分。\n"
   ]
  },
  {
   "cell_type": "code",
   "execution_count": 3,
   "id": "e8af0cfe",
   "metadata": {
    "execution": {
     "iopub.execute_input": "2022-12-07T16:28:29.717505Z",
     "iopub.status.busy": "2022-12-07T16:28:29.717103Z",
     "iopub.status.idle": "2022-12-07T16:28:29.722209Z",
     "shell.execute_reply": "2022-12-07T16:28:29.721493Z"
    },
    "origin_pos": 12,
    "tab": [
     "pytorch"
    ],
    "ExecuteTime": {
     "end_time": "2023-09-01T09:04:08.042596Z",
     "start_time": "2023-09-01T09:04:08.035540Z"
    }
   },
   "outputs": [],
   "source": [
    "#@save\n",
    "class EncoderDecoder(nn.Module):\n",
    "    \"\"\"编码器-解码器架构的基类\"\"\"\n",
    "    def __init__(self, encoder, decoder, **kwargs):\n",
    "        super(EncoderDecoder, self).__init__(**kwargs)\n",
    "        self.encoder = encoder\n",
    "        self.decoder = decoder\n",
    "\n",
    "    def forward(self, enc_X, dec_X, *args):\n",
    "        enc_outputs = self.encoder(enc_X, *args)\n",
    "        dec_state = self.decoder.init_state(enc_outputs, *args)\n",
    "        return self.decoder(dec_X, dec_state)"
   ]
  },
  {
   "cell_type": "markdown",
   "id": "2d7c24f2",
   "metadata": {
    "origin_pos": 15
   },
   "source": [
    "“Encoder－Decoder”体系架构中的术语“状态”会启发人们使用具有状态的神经网络来实现该架构，使用最广泛的就是 RNN。"
   ]
  }
 ],
 "metadata": {
  "language_info": {
   "name": "python"
  },
  "kernelspec": {
   "name": "python3",
   "language": "python",
   "display_name": "Python 3 (ipykernel)"
  }
 },
 "nbformat": 4,
 "nbformat_minor": 5
}
