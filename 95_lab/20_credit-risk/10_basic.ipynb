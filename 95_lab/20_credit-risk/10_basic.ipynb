{
 "cells": [
  {
   "cell_type": "markdown",
   "metadata": {},
   "source": [
    "# 风控比赛"
   ]
  },
  {
   "cell_type": "code",
   "execution_count": 5,
   "metadata": {},
   "outputs": [],
   "source": [
    "import pandas as pd\n",
    "import catboost as cat\n",
    "from sklearn.metrics import *\n",
    "from sklearn.preprocessing import *\n",
    "\n",
    "# 系统库\n",
    "import os, sys\n",
    "\n",
    "# 自带数据\n",
    "datalib_path = os.path.join(os.path.abspath('.'), '../../')\n",
    "sys.path.append(datalib_path)\n",
    "import dataset"
   ]
  },
  {
   "cell_type": "markdown",
   "metadata": {},
   "source": [
    "## Submission评估"
   ]
  },
  {
   "cell_type": "code",
   "execution_count": 6,
   "metadata": {},
   "outputs": [
    {
     "name": "stdout",
     "output_type": "stream",
     "text": [
      "Public Score: 1.0 Private Score: 1.0\n"
     ]
    }
   ],
   "source": [
    "# 答案评估函数，和比赛相同\n",
    "def score_answer(y_pred: pd.Series):\n",
    "    y_true = pd.read_csv(os.path.join(dataset.creditrisk_path,'answer.csv'), index_col=0)\n",
    "    # index 对齐\n",
    "    assert (y_true.index == y_pred.index).all()\n",
    "    public_index = y_true.index[0:3000]\n",
    "    private_index = y_true.index[3000:]\n",
    "    public_score = roc_auc_score(\n",
    "        y_true=y_true.loc[public_index].target,\n",
    "        y_score=y_pred.loc[public_index].target\n",
    "    )\n",
    "    private_score = roc_auc_score(\n",
    "        y_true=y_true.loc[private_index].target,\n",
    "        y_score=y_pred.loc[private_index].target\n",
    "    )\n",
    "    print('Public Score:', public_score, 'Private Score:', private_score)\n",
    "\n",
    "# 测试\n",
    "y_true = pd.read_csv(os.path.join(dataset.creditrisk_path,'answer.csv'), index_col=0)\n",
    "score_answer(y_true)"
   ]
  },
  {
   "cell_type": "markdown",
   "metadata": {},
   "source": [
    "## 加载数据"
   ]
  },
  {
   "cell_type": "code",
   "execution_count": 7,
   "metadata": {},
   "outputs": [
    {
     "name": "stdout",
     "output_type": "stream",
     "text": [
      "(15000, 24) (6000, 23)\n",
      "    target  LIMIT_BAL  SEX  EDUCATION  MARRIAGE  AGE  PAY_1  PAY_2  PAY_3  \\\n",
      "ID                                                                          \n",
      "0        0      50000    1          2         1   34      0      0      0   \n",
      "1        0      10000    1          2         2   32      2      0      0   \n",
      "2        0     110000    2          2         2   33      0      0      0   \n",
      "3        0      80000    1          1         2   24      0      0      0   \n",
      "4        0     450000    2          2         1   36     -1     -1     -1   \n",
      "\n",
      "    PAY_4  ...  BILL_AMT3  BILL_AMT4  BILL_AMT5  BILL_AMT6  PAY_AMT1  \\\n",
      "ID         ...                                                         \n",
      "0       0  ...      30609      30432      30254      30088      2008   \n",
      "1       0  ...       9028       9644       9790       9990      1132   \n",
      "2       0  ...      41240      42380        380      96736      4000   \n",
      "3       0  ...      78589      78806      50663      50214      4400   \n",
      "4      -1  ...        198       9532       3420        130      2081   \n",
      "\n",
      "    PAY_AMT2  PAY_AMT3  PAY_AMT4  PAY_AMT5  PAY_AMT6  \n",
      "ID                                                    \n",
      "0       2000      1500      1501      2105      2219  \n",
      "1       1384      1000       196       200         0  \n",
      "2       2760      3000       380     96736      3600  \n",
      "3      50000      3034      1800      1817      1750  \n",
      "4        198      9532      3420       130       878  \n",
      "\n",
      "[5 rows x 24 columns]\n",
      "       LIMIT_BAL  SEX  EDUCATION  MARRIAGE  AGE  PAY_1  PAY_2  PAY_3  PAY_4  \\\n",
      "ID                                                                            \n",
      "15000     360000    2          2         2   25     -1     -1     -1     -1   \n",
      "15001      50000    1          2         2   30      1      2      0      0   \n",
      "15002     120000    2          1         2   28     -2     -2     -2     -2   \n",
      "15003     240000    1          3         1   43     -1     -1      2      2   \n",
      "15004      70000    1          1         2   27      0      0      0      0   \n",
      "\n",
      "       PAY_5  ...  BILL_AMT3  BILL_AMT4  BILL_AMT5  BILL_AMT6  PAY_AMT1  \\\n",
      "ID            ...                                                         \n",
      "15000     -1  ...       3479       3435       8870       2020     12590   \n",
      "15001      0  ...      51135      48371      56294      61259         0   \n",
      "15002     -2  ...          0        409        872       1539      2054   \n",
      "15003      2  ...       2500       2500       2500          0      2500   \n",
      "15004      0  ...     117846      49535      48247      49040      6012   \n",
      "\n",
      "       PAY_AMT2  PAY_AMT3  PAY_AMT4  PAY_AMT5  PAY_AMT6  \n",
      "ID                                                       \n",
      "15000      3479      3446      8870      2020     27043  \n",
      "15001      2500      2271     50000     10100      3000  \n",
      "15002         0       409       872      1539       580  \n",
      "15003         0         0         0         0         0  \n",
      "15004      1936      1874      1740      2000      1800  \n",
      "\n",
      "[5 rows x 23 columns]\n"
     ]
    }
   ],
   "source": [
    "train = pd.read_csv(os.path.join(dataset.creditrisk_path,'train.csv')).set_index('ID')\n",
    "test = pd.read_csv(os.path.join(dataset.creditrisk_path,'test.csv')).set_index('ID')\n",
    "print(train.shape, test.shape)\n",
    "print(train.head())\n",
    "print(test.head())"
   ]
  },
  {
   "cell_type": "markdown",
   "metadata": {},
   "source": [
    "## Baseline模型"
   ]
  },
  {
   "cell_type": "code",
   "execution_count": 8,
   "metadata": {},
   "outputs": [
    {
     "data": {
      "text/html": [
       "<div>\n",
       "<style scoped>\n",
       "    .dataframe tbody tr th:only-of-type {\n",
       "        vertical-align: middle;\n",
       "    }\n",
       "\n",
       "    .dataframe tbody tr th {\n",
       "        vertical-align: top;\n",
       "    }\n",
       "\n",
       "    .dataframe thead th {\n",
       "        text-align: right;\n",
       "    }\n",
       "</style>\n",
       "<table border=\"1\" class=\"dataframe\">\n",
       "  <thead>\n",
       "    <tr style=\"text-align: right;\">\n",
       "      <th></th>\n",
       "      <th>target</th>\n",
       "    </tr>\n",
       "    <tr>\n",
       "      <th>ID</th>\n",
       "      <th></th>\n",
       "    </tr>\n",
       "  </thead>\n",
       "  <tbody>\n",
       "    <tr>\n",
       "      <th>15000</th>\n",
       "      <td>0.040305</td>\n",
       "    </tr>\n",
       "    <tr>\n",
       "      <th>15001</th>\n",
       "      <td>0.279795</td>\n",
       "    </tr>\n",
       "    <tr>\n",
       "      <th>15002</th>\n",
       "      <td>0.132787</td>\n",
       "    </tr>\n",
       "    <tr>\n",
       "      <th>15003</th>\n",
       "      <td>0.276708</td>\n",
       "    </tr>\n",
       "    <tr>\n",
       "      <th>15004</th>\n",
       "      <td>0.206277</td>\n",
       "    </tr>\n",
       "  </tbody>\n",
       "</table>\n",
       "</div>"
      ],
      "text/plain": [
       "         target\n",
       "ID             \n",
       "15000  0.040305\n",
       "15001  0.279795\n",
       "15002  0.132787\n",
       "15003  0.276708\n",
       "15004  0.206277"
      ]
     },
     "execution_count": 8,
     "metadata": {},
     "output_type": "execute_result"
    }
   ],
   "source": [
    "# 利用catboost的分析能力，快速建立baseline\n",
    "features = [col for col in train.columns if col not in ['ID', 'target']]\n",
    "\n",
    "model = cat.CatBoostClassifier(random_state=123) # 固定random_state确保每次提交的结果相同\n",
    "model.fit(train[features], train['target'], verbose=False)\n",
    "y_pred = model.predict_proba(test[features])[:, 1]\n",
    "\n",
    "submission = test[[]].copy() # 用copy防止奇怪的内存错误\n",
    "submission['target'] = y_pred\n",
    "submission.head()"
   ]
  },
  {
   "cell_type": "code",
   "execution_count": 9,
   "metadata": {},
   "outputs": [
    {
     "name": "stdout",
     "output_type": "stream",
     "text": [
      "Public Score: 0.7741884705191268 Private Score: 0.781436480165474\n"
     ]
    }
   ],
   "source": [
    "# 评估Baseline\n",
    "score_answer(submission)"
   ]
  },
  {
   "cell_type": "markdown",
   "metadata": {},
   "source": [
    "## 特征工程"
   ]
  },
  {
   "cell_type": "markdown",
   "metadata": {},
   "source": [
    "### 合并训练/数据集"
   ]
  },
  {
   "cell_type": "code",
   "execution_count": 10,
   "metadata": {},
   "outputs": [
    {
     "name": "stdout",
     "output_type": "stream",
     "text": [
      "Index(['target', 'LIMIT_BAL', 'SEX', 'EDUCATION', 'MARRIAGE', 'AGE', 'PAY_1',\n",
      "       'PAY_2', 'PAY_3', 'PAY_4', 'PAY_5', 'PAY_6', 'BILL_AMT1', 'BILL_AMT2',\n",
      "       'BILL_AMT3', 'BILL_AMT4', 'BILL_AMT5', 'BILL_AMT6', 'PAY_AMT1',\n",
      "       'PAY_AMT2', 'PAY_AMT3', 'PAY_AMT4', 'PAY_AMT5', 'PAY_AMT6'],\n",
      "      dtype='object')\n"
     ]
    },
    {
     "data": {
      "text/html": [
       "<div>\n",
       "<style scoped>\n",
       "    .dataframe tbody tr th:only-of-type {\n",
       "        vertical-align: middle;\n",
       "    }\n",
       "\n",
       "    .dataframe tbody tr th {\n",
       "        vertical-align: top;\n",
       "    }\n",
       "\n",
       "    .dataframe thead th {\n",
       "        text-align: right;\n",
       "    }\n",
       "</style>\n",
       "<table border=\"1\" class=\"dataframe\">\n",
       "  <thead>\n",
       "    <tr style=\"text-align: right;\">\n",
       "      <th></th>\n",
       "      <th>target</th>\n",
       "      <th>LIMIT_BAL</th>\n",
       "      <th>SEX</th>\n",
       "      <th>EDUCATION</th>\n",
       "      <th>MARRIAGE</th>\n",
       "      <th>AGE</th>\n",
       "      <th>PAY_1</th>\n",
       "      <th>PAY_2</th>\n",
       "      <th>PAY_3</th>\n",
       "      <th>PAY_4</th>\n",
       "      <th>...</th>\n",
       "      <th>BILL_AMT4</th>\n",
       "      <th>BILL_AMT5</th>\n",
       "      <th>BILL_AMT6</th>\n",
       "      <th>PAY_AMT1</th>\n",
       "      <th>PAY_AMT2</th>\n",
       "      <th>PAY_AMT3</th>\n",
       "      <th>PAY_AMT4</th>\n",
       "      <th>PAY_AMT5</th>\n",
       "      <th>PAY_AMT6</th>\n",
       "      <th>is_train</th>\n",
       "    </tr>\n",
       "    <tr>\n",
       "      <th>ID</th>\n",
       "      <th></th>\n",
       "      <th></th>\n",
       "      <th></th>\n",
       "      <th></th>\n",
       "      <th></th>\n",
       "      <th></th>\n",
       "      <th></th>\n",
       "      <th></th>\n",
       "      <th></th>\n",
       "      <th></th>\n",
       "      <th></th>\n",
       "      <th></th>\n",
       "      <th></th>\n",
       "      <th></th>\n",
       "      <th></th>\n",
       "      <th></th>\n",
       "      <th></th>\n",
       "      <th></th>\n",
       "      <th></th>\n",
       "      <th></th>\n",
       "      <th></th>\n",
       "    </tr>\n",
       "  </thead>\n",
       "  <tbody>\n",
       "    <tr>\n",
       "      <th>0</th>\n",
       "      <td>0.0</td>\n",
       "      <td>50000</td>\n",
       "      <td>1</td>\n",
       "      <td>2</td>\n",
       "      <td>1</td>\n",
       "      <td>34</td>\n",
       "      <td>0</td>\n",
       "      <td>0</td>\n",
       "      <td>0</td>\n",
       "      <td>0</td>\n",
       "      <td>...</td>\n",
       "      <td>30432</td>\n",
       "      <td>30254</td>\n",
       "      <td>30088</td>\n",
       "      <td>2008</td>\n",
       "      <td>2000</td>\n",
       "      <td>1500</td>\n",
       "      <td>1501</td>\n",
       "      <td>2105</td>\n",
       "      <td>2219</td>\n",
       "      <td>1</td>\n",
       "    </tr>\n",
       "    <tr>\n",
       "      <th>1</th>\n",
       "      <td>0.0</td>\n",
       "      <td>10000</td>\n",
       "      <td>1</td>\n",
       "      <td>2</td>\n",
       "      <td>2</td>\n",
       "      <td>32</td>\n",
       "      <td>2</td>\n",
       "      <td>0</td>\n",
       "      <td>0</td>\n",
       "      <td>0</td>\n",
       "      <td>...</td>\n",
       "      <td>9644</td>\n",
       "      <td>9790</td>\n",
       "      <td>9990</td>\n",
       "      <td>1132</td>\n",
       "      <td>1384</td>\n",
       "      <td>1000</td>\n",
       "      <td>196</td>\n",
       "      <td>200</td>\n",
       "      <td>0</td>\n",
       "      <td>1</td>\n",
       "    </tr>\n",
       "    <tr>\n",
       "      <th>2</th>\n",
       "      <td>0.0</td>\n",
       "      <td>110000</td>\n",
       "      <td>2</td>\n",
       "      <td>2</td>\n",
       "      <td>2</td>\n",
       "      <td>33</td>\n",
       "      <td>0</td>\n",
       "      <td>0</td>\n",
       "      <td>0</td>\n",
       "      <td>0</td>\n",
       "      <td>...</td>\n",
       "      <td>42380</td>\n",
       "      <td>380</td>\n",
       "      <td>96736</td>\n",
       "      <td>4000</td>\n",
       "      <td>2760</td>\n",
       "      <td>3000</td>\n",
       "      <td>380</td>\n",
       "      <td>96736</td>\n",
       "      <td>3600</td>\n",
       "      <td>1</td>\n",
       "    </tr>\n",
       "    <tr>\n",
       "      <th>3</th>\n",
       "      <td>0.0</td>\n",
       "      <td>80000</td>\n",
       "      <td>1</td>\n",
       "      <td>1</td>\n",
       "      <td>2</td>\n",
       "      <td>24</td>\n",
       "      <td>0</td>\n",
       "      <td>0</td>\n",
       "      <td>0</td>\n",
       "      <td>0</td>\n",
       "      <td>...</td>\n",
       "      <td>78806</td>\n",
       "      <td>50663</td>\n",
       "      <td>50214</td>\n",
       "      <td>4400</td>\n",
       "      <td>50000</td>\n",
       "      <td>3034</td>\n",
       "      <td>1800</td>\n",
       "      <td>1817</td>\n",
       "      <td>1750</td>\n",
       "      <td>1</td>\n",
       "    </tr>\n",
       "    <tr>\n",
       "      <th>4</th>\n",
       "      <td>0.0</td>\n",
       "      <td>450000</td>\n",
       "      <td>2</td>\n",
       "      <td>2</td>\n",
       "      <td>1</td>\n",
       "      <td>36</td>\n",
       "      <td>-1</td>\n",
       "      <td>-1</td>\n",
       "      <td>-1</td>\n",
       "      <td>-1</td>\n",
       "      <td>...</td>\n",
       "      <td>9532</td>\n",
       "      <td>3420</td>\n",
       "      <td>130</td>\n",
       "      <td>2081</td>\n",
       "      <td>198</td>\n",
       "      <td>9532</td>\n",
       "      <td>3420</td>\n",
       "      <td>130</td>\n",
       "      <td>878</td>\n",
       "      <td>1</td>\n",
       "    </tr>\n",
       "  </tbody>\n",
       "</table>\n",
       "<p>5 rows × 25 columns</p>\n",
       "</div>"
      ],
      "text/plain": [
       "    target  LIMIT_BAL  SEX  EDUCATION  MARRIAGE  AGE  PAY_1  PAY_2  PAY_3  \\\n",
       "ID                                                                          \n",
       "0      0.0      50000    1          2         1   34      0      0      0   \n",
       "1      0.0      10000    1          2         2   32      2      0      0   \n",
       "2      0.0     110000    2          2         2   33      0      0      0   \n",
       "3      0.0      80000    1          1         2   24      0      0      0   \n",
       "4      0.0     450000    2          2         1   36     -1     -1     -1   \n",
       "\n",
       "    PAY_4  ...  BILL_AMT4  BILL_AMT5  BILL_AMT6  PAY_AMT1  PAY_AMT2  PAY_AMT3  \\\n",
       "ID         ...                                                                  \n",
       "0       0  ...      30432      30254      30088      2008      2000      1500   \n",
       "1       0  ...       9644       9790       9990      1132      1384      1000   \n",
       "2       0  ...      42380        380      96736      4000      2760      3000   \n",
       "3       0  ...      78806      50663      50214      4400     50000      3034   \n",
       "4      -1  ...       9532       3420        130      2081       198      9532   \n",
       "\n",
       "    PAY_AMT4  PAY_AMT5  PAY_AMT6  is_train  \n",
       "ID                                          \n",
       "0       1501      2105      2219         1  \n",
       "1        196       200         0         1  \n",
       "2        380     96736      3600         1  \n",
       "3       1800      1817      1750         1  \n",
       "4       3420       130       878         1  \n",
       "\n",
       "[5 rows x 25 columns]"
      ]
     },
     "execution_count": 10,
     "metadata": {},
     "output_type": "execute_result"
    }
   ],
   "source": [
    "print(train.columns)\n",
    "train['is_train'] = 1\n",
    "test['is_train'] = 0\n",
    "data = pd.concat([train,test],axis=0, sort=False)\n",
    "assert data.shape[0] == (train.shape[0] + test.shape[0])\n",
    "assert data.shape[1] == train.shape[1]\n",
    "data.head()"
   ]
  },
  {
   "cell_type": "markdown",
   "metadata": {},
   "source": [
    "### 数值特征float化"
   ]
  },
  {
   "cell_type": "code",
   "execution_count": 11,
   "metadata": {},
   "outputs": [],
   "source": [
    "# 因为后续使用GBDT，所以没有必要做归一化等处理\n",
    "num_features = ['LIMIT_BAL', 'BILL_AMT1', 'BILL_AMT2',\n",
    "       'BILL_AMT3', 'BILL_AMT4', 'BILL_AMT5', 'BILL_AMT6', 'PAY_AMT1',\n",
    "       'PAY_AMT2', 'PAY_AMT3', 'PAY_AMT4', 'PAY_AMT5', 'PAY_AMT6', 'AGE']\n",
    "data[num_features] = data[num_features].astype(float)\n",
    "\n",
    "# 借款相对额度（LIMIT_BAL）\n",
    "for col in ['BILL_AMT1', 'BILL_AMT2',\n",
    "       'BILL_AMT3', 'BILL_AMT4', 'BILL_AMT5', 'BILL_AMT6', 'PAY_AMT1',\n",
    "       'PAY_AMT2', 'PAY_AMT3', 'PAY_AMT4', 'PAY_AMT5', 'PAY_AMT6']:\n",
    "    data[col+'_RATIO'] = data[col]/(data['LIMIT_BAL']+1.0)\n",
    "    num_features.append(col+'_RATIO')\n",
    "\n",
    "# 订单相对额度\n",
    "for i in range(1,7):\n",
    "    data[f'BILL_PAY_AMT_{i}_RATIO'] = data[f'PAY_AMT{i}']/(data[f'BILL_AMT{i}']+1.0)\n",
    "    num_features.append(f'BILL_PAY_AMT_{i}_RATIO')"
   ]
  },
  {
   "cell_type": "markdown",
   "metadata": {},
   "source": [
    "### 类型特征Count Encode"
   ]
  },
  {
   "cell_type": "code",
   "execution_count": 12,
   "metadata": {},
   "outputs": [],
   "source": [
    "# 类型特征\n",
    "cat_features = ['SEX', 'EDUCATION', 'MARRIAGE', 'PAY_1','PAY_2', 'PAY_3', 'PAY_4', 'PAY_5', 'PAY_6']\n",
    "data[cat_features] = data[cat_features].astype(str)\n",
    "\n",
    "from category_encoders import CountEncoder\n",
    "for col in ['SEX', 'EDUCATION', 'MARRIAGE', 'PAY_1','PAY_2', 'PAY_3', 'PAY_4', 'PAY_5', 'PAY_6']:\n",
    "    data[col+'_cnt'] = CountEncoder().fit_transform(data[col])\n",
    "    cat_features.append(col+'_cnt')\n",
    "\n",
    "# 按时还款\n",
    "for col in ['PAY_1','PAY_2', 'PAY_3', 'PAY_4', 'PAY_5', 'PAY_6']:\n",
    "    data[col+'_ontime'] = ~data[col].isin(['0','-1','-2'])\n",
    "    num_features.append(col+'_ontime')"
   ]
  },
  {
   "cell_type": "markdown",
   "metadata": {},
   "source": [
    "## 训练模型"
   ]
  },
  {
   "cell_type": "markdown",
   "metadata": {},
   "source": [
    "### 简单CatBoost"
   ]
  },
  {
   "cell_type": "code",
   "execution_count": 13,
   "metadata": {},
   "outputs": [
    {
     "data": {
      "text/html": [
       "<div>\n",
       "<style scoped>\n",
       "    .dataframe tbody tr th:only-of-type {\n",
       "        vertical-align: middle;\n",
       "    }\n",
       "\n",
       "    .dataframe tbody tr th {\n",
       "        vertical-align: top;\n",
       "    }\n",
       "\n",
       "    .dataframe thead th {\n",
       "        text-align: right;\n",
       "    }\n",
       "</style>\n",
       "<table border=\"1\" class=\"dataframe\">\n",
       "  <thead>\n",
       "    <tr style=\"text-align: right;\">\n",
       "      <th></th>\n",
       "      <th>target</th>\n",
       "    </tr>\n",
       "    <tr>\n",
       "      <th>ID</th>\n",
       "      <th></th>\n",
       "    </tr>\n",
       "  </thead>\n",
       "  <tbody>\n",
       "    <tr>\n",
       "      <th>15000</th>\n",
       "      <td>0.036207</td>\n",
       "    </tr>\n",
       "    <tr>\n",
       "      <th>15001</th>\n",
       "      <td>0.374969</td>\n",
       "    </tr>\n",
       "    <tr>\n",
       "      <th>15002</th>\n",
       "      <td>0.128684</td>\n",
       "    </tr>\n",
       "    <tr>\n",
       "      <th>15003</th>\n",
       "      <td>0.310621</td>\n",
       "    </tr>\n",
       "    <tr>\n",
       "      <th>15004</th>\n",
       "      <td>0.167347</td>\n",
       "    </tr>\n",
       "  </tbody>\n",
       "</table>\n",
       "</div>"
      ],
      "text/plain": [
       "         target\n",
       "ID             \n",
       "15000  0.036207\n",
       "15001  0.374969\n",
       "15002  0.128684\n",
       "15003  0.310621\n",
       "15004  0.167347"
      ]
     },
     "execution_count": 13,
     "metadata": {},
     "output_type": "execute_result"
    }
   ],
   "source": [
    "features = cat_features + num_features\n",
    "\n",
    "X_train,y_train = data[data.is_train==1][features], data[data.is_train==1]['target']\n",
    "X_test = data[data.is_train==0][features]\n",
    "\n",
    "model = cat.CatBoostClassifier(random_state=123, cat_features=cat_features) # 固定random_state确保每次提交的结果相同\n",
    "model.fit(X_train, y_train, verbose=False)\n",
    "y_pred = model.predict_proba(X_test)[:, 1]\n",
    "\n",
    "submission = test[[]].copy() # 用copy防止奇怪的内存错误\n",
    "submission['target'] = y_pred\n",
    "submission.head()"
   ]
  },
  {
   "cell_type": "markdown",
   "metadata": {},
   "source": [
    "#### 评估模型"
   ]
  },
  {
   "cell_type": "code",
   "execution_count": 14,
   "metadata": {},
   "outputs": [
    {
     "name": "stdout",
     "output_type": "stream",
     "text": [
      "Public Score: 0.7738070937361423 Private Score: 0.7789971025017056\n"
     ]
    }
   ],
   "source": [
    "score_answer(submission)"
   ]
  },
  {
   "cell_type": "markdown",
   "metadata": {},
   "source": [
    "### CatBoost through KFold"
   ]
  },
  {
   "cell_type": "code",
   "execution_count": 15,
   "metadata": {},
   "outputs": [
    {
     "data": {
      "text/html": [
       "<div>\n",
       "<style scoped>\n",
       "    .dataframe tbody tr th:only-of-type {\n",
       "        vertical-align: middle;\n",
       "    }\n",
       "\n",
       "    .dataframe tbody tr th {\n",
       "        vertical-align: top;\n",
       "    }\n",
       "\n",
       "    .dataframe thead th {\n",
       "        text-align: right;\n",
       "    }\n",
       "</style>\n",
       "<table border=\"1\" class=\"dataframe\">\n",
       "  <thead>\n",
       "    <tr style=\"text-align: right;\">\n",
       "      <th></th>\n",
       "      <th>target_0</th>\n",
       "      <th>target_1</th>\n",
       "      <th>target_2</th>\n",
       "      <th>target_3</th>\n",
       "      <th>target_4</th>\n",
       "      <th>target_5</th>\n",
       "    </tr>\n",
       "    <tr>\n",
       "      <th>ID</th>\n",
       "      <th></th>\n",
       "      <th></th>\n",
       "      <th></th>\n",
       "      <th></th>\n",
       "      <th></th>\n",
       "      <th></th>\n",
       "    </tr>\n",
       "  </thead>\n",
       "  <tbody>\n",
       "    <tr>\n",
       "      <th>15000</th>\n",
       "      <td>0.059558</td>\n",
       "      <td>0.051062</td>\n",
       "      <td>0.163240</td>\n",
       "      <td>0.072042</td>\n",
       "      <td>0.077706</td>\n",
       "      <td>0.072344</td>\n",
       "    </tr>\n",
       "    <tr>\n",
       "      <th>15001</th>\n",
       "      <td>0.362264</td>\n",
       "      <td>0.331987</td>\n",
       "      <td>0.389154</td>\n",
       "      <td>0.311970</td>\n",
       "      <td>0.342273</td>\n",
       "      <td>0.324608</td>\n",
       "    </tr>\n",
       "    <tr>\n",
       "      <th>15002</th>\n",
       "      <td>0.160803</td>\n",
       "      <td>0.157264</td>\n",
       "      <td>0.230637</td>\n",
       "      <td>0.170284</td>\n",
       "      <td>0.163638</td>\n",
       "      <td>0.191230</td>\n",
       "    </tr>\n",
       "    <tr>\n",
       "      <th>15003</th>\n",
       "      <td>0.388852</td>\n",
       "      <td>0.375552</td>\n",
       "      <td>0.340432</td>\n",
       "      <td>0.347471</td>\n",
       "      <td>0.419194</td>\n",
       "      <td>0.326624</td>\n",
       "    </tr>\n",
       "    <tr>\n",
       "      <th>15004</th>\n",
       "      <td>0.142489</td>\n",
       "      <td>0.144916</td>\n",
       "      <td>0.205683</td>\n",
       "      <td>0.132265</td>\n",
       "      <td>0.142552</td>\n",
       "      <td>0.171967</td>\n",
       "    </tr>\n",
       "  </tbody>\n",
       "</table>\n",
       "</div>"
      ],
      "text/plain": [
       "       target_0  target_1  target_2  target_3  target_4  target_5\n",
       "ID                                                               \n",
       "15000  0.059558  0.051062  0.163240  0.072042  0.077706  0.072344\n",
       "15001  0.362264  0.331987  0.389154  0.311970  0.342273  0.324608\n",
       "15002  0.160803  0.157264  0.230637  0.170284  0.163638  0.191230\n",
       "15003  0.388852  0.375552  0.340432  0.347471  0.419194  0.326624\n",
       "15004  0.142489  0.144916  0.205683  0.132265  0.142552  0.171967"
      ]
     },
     "execution_count": 15,
     "metadata": {},
     "output_type": "execute_result"
    }
   ],
   "source": [
    "features = cat_features + num_features\n",
    "\n",
    "X_train, y_train = data[data.is_train==1][features], data[data.is_train==1]['target']\n",
    "X_test = data[data.is_train==0][features]\n",
    "\n",
    "from sklearn.model_selection import KFold\n",
    "\n",
    "predictions = test[[]].copy()\n",
    "i = 0\n",
    "for train_idx, test_idx in KFold(6, shuffle=True, random_state=10).split(X_train):\n",
    "    X_train1, X_val1 = X_train.iloc[train_idx], X_train.iloc[test_idx]\n",
    "    y_train1, y_val1 = y_train.iloc[train_idx], y_train.iloc[test_idx]\n",
    "\n",
    "    model = cat.CatBoostClassifier(\n",
    "        random_state=123, \n",
    "        cat_features=cat_features,\n",
    "        eval_metric='AUC'\n",
    "    ) # 固定random_state确保每次提交的结果相同\n",
    "    model.fit(\n",
    "        X_train1, y_train1, \n",
    "        verbose=False, \n",
    "        early_stopping_rounds=10, \n",
    "        eval_set=[(X_val1, y_val1)],\n",
    "    )\n",
    "    y_pred = model.predict_proba(X_test)[:, 1]\n",
    "    predictions[f'target_{i}'] = y_pred\n",
    "    i+=1\n",
    "\n",
    "predictions.head()"
   ]
  },
  {
   "cell_type": "markdown",
   "metadata": {},
   "source": [
    "#### 准备submission"
   ]
  },
  {
   "cell_type": "code",
   "execution_count": 16,
   "metadata": {},
   "outputs": [
    {
     "data": {
      "text/html": [
       "<div>\n",
       "<style scoped>\n",
       "    .dataframe tbody tr th:only-of-type {\n",
       "        vertical-align: middle;\n",
       "    }\n",
       "\n",
       "    .dataframe tbody tr th {\n",
       "        vertical-align: top;\n",
       "    }\n",
       "\n",
       "    .dataframe thead th {\n",
       "        text-align: right;\n",
       "    }\n",
       "</style>\n",
       "<table border=\"1\" class=\"dataframe\">\n",
       "  <thead>\n",
       "    <tr style=\"text-align: right;\">\n",
       "      <th></th>\n",
       "      <th>target</th>\n",
       "    </tr>\n",
       "    <tr>\n",
       "      <th>ID</th>\n",
       "      <th></th>\n",
       "    </tr>\n",
       "  </thead>\n",
       "  <tbody>\n",
       "    <tr>\n",
       "      <th>15000</th>\n",
       "      <td>0.060167</td>\n",
       "    </tr>\n",
       "    <tr>\n",
       "      <th>15001</th>\n",
       "      <td>0.829500</td>\n",
       "    </tr>\n",
       "    <tr>\n",
       "      <th>15002</th>\n",
       "      <td>0.578667</td>\n",
       "    </tr>\n",
       "    <tr>\n",
       "      <th>15003</th>\n",
       "      <td>0.846000</td>\n",
       "    </tr>\n",
       "    <tr>\n",
       "      <th>15004</th>\n",
       "      <td>0.478167</td>\n",
       "    </tr>\n",
       "  </tbody>\n",
       "</table>\n",
       "</div>"
      ],
      "text/plain": [
       "         target\n",
       "ID             \n",
       "15000  0.060167\n",
       "15001  0.829500\n",
       "15002  0.578667\n",
       "15003  0.846000\n",
       "15004  0.478167"
      ]
     },
     "execution_count": 16,
     "metadata": {},
     "output_type": "execute_result"
    }
   ],
   "source": [
    "submission = test[[]].copy()\n",
    "submission['target'] = predictions.mean(axis=1).rank()/predictions.shape[0]\n",
    "submission.head()"
   ]
  },
  {
   "cell_type": "markdown",
   "metadata": {},
   "source": [
    "#### 评估模型"
   ]
  },
  {
   "cell_type": "code",
   "execution_count": 17,
   "metadata": {},
   "outputs": [
    {
     "name": "stdout",
     "output_type": "stream",
     "text": [
      "Public Score: 0.7824574998448257 Private Score: 0.7843634712042674\n"
     ]
    }
   ],
   "source": [
    "score_answer(submission)"
   ]
  }
 ],
 "metadata": {
  "interpreter": {
   "hash": "a5950bd233fe1ee8df13839024468c0dae339d121cc033fd9820e3e5209fc92f"
  },
  "kernelspec": {
   "display_name": "Python 3",
   "language": "python",
   "name": "python3"
  },
  "language_info": {
   "codemirror_mode": {
    "name": "ipython",
    "version": 3
   },
   "file_extension": ".py",
   "mimetype": "text/x-python",
   "name": "python",
   "nbconvert_exporter": "python",
   "pygments_lexer": "ipython3",
   "version": "3.8.8"
  }
 },
 "nbformat": 4,
 "nbformat_minor": 2
}
