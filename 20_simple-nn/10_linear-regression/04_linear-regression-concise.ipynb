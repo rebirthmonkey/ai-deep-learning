{
 "cells": [
  {
   "cell_type": "markdown",
   "id": "a219a949",
   "metadata": {
    "origin_pos": 0
   },
   "source": [
    "# 线性回归的简洁实现\n",
    "\n",
    "基于 PyTorch 开源框架，可以自动化基于梯度的学习算法中重复性的工作。"
   ]
  },
  {
   "cell_type": "markdown",
   "source": [
    "## 生成数据集\n",
    "首先，生成数据集"
   ],
   "metadata": {
    "collapsed": false
   }
  },
  {
   "cell_type": "code",
   "execution_count": 7,
   "id": "c4742dda",
   "metadata": {
    "execution": {
     "iopub.execute_input": "2022-12-07T16:40:05.855309Z",
     "iopub.status.busy": "2022-12-07T16:40:05.855001Z",
     "iopub.status.idle": "2022-12-07T16:40:08.222421Z",
     "shell.execute_reply": "2022-12-07T16:40:08.221438Z"
    },
    "origin_pos": 2,
    "tab": [
     "pytorch"
    ],
    "ExecuteTime": {
     "end_time": "2023-07-13T07:44:23.368292Z",
     "start_time": "2023-07-13T07:44:23.364846Z"
    }
   },
   "outputs": [],
   "source": [
    "import numpy as np\n",
    "import torch\n",
    "from torch.utils import data\n",
    "from d2l import torch as d2l"
   ]
  },
  {
   "cell_type": "code",
   "execution_count": 12,
   "id": "492c9787",
   "metadata": {
    "execution": {
     "iopub.execute_input": "2022-12-07T16:40:08.226745Z",
     "iopub.status.busy": "2022-12-07T16:40:08.226129Z",
     "iopub.status.idle": "2022-12-07T16:40:08.250195Z",
     "shell.execute_reply": "2022-12-07T16:40:08.249372Z"
    },
    "origin_pos": 5,
    "tab": [
     "pytorch"
    ],
    "ExecuteTime": {
     "end_time": "2023-07-13T07:48:57.234064Z",
     "start_time": "2023-07-13T07:48:57.231310Z"
    }
   },
   "outputs": [],
   "source": [
    "true_w = torch.tensor([2, -3.4])\n",
    "true_b = 4.2\n",
    "features, labels = d2l.synthetic_data(true_w, true_b, 1000)"
   ]
  },
  {
   "cell_type": "markdown",
   "id": "20b0ad00",
   "metadata": {
    "origin_pos": 6
   },
   "source": [
    "## 读取数据集\n",
    "\n",
    "调用框架中现有的函数来读取数据，将`features`和`labels`作为参数，并通过数据迭代器指定`batch_size`。\n",
    "此外，布尔值`is_train`表示是否希望数据迭代器对象在每个迭代周期内打乱数据。"
   ]
  },
  {
   "cell_type": "code",
   "execution_count": 13,
   "id": "6428d97f",
   "metadata": {
    "execution": {
     "iopub.execute_input": "2022-12-07T16:40:08.253484Z",
     "iopub.status.busy": "2022-12-07T16:40:08.253024Z",
     "iopub.status.idle": "2022-12-07T16:40:08.257866Z",
     "shell.execute_reply": "2022-12-07T16:40:08.257067Z"
    },
    "origin_pos": 8,
    "tab": [
     "pytorch"
    ],
    "ExecuteTime": {
     "end_time": "2023-07-13T07:49:00.669115Z",
     "start_time": "2023-07-13T07:49:00.663977Z"
    }
   },
   "outputs": [],
   "source": [
    "def load_array(data_arrays, batch_size, is_train=True):  #@save\n",
    "    \"\"\"构造一个PyTorch数据迭代器\"\"\"\n",
    "    dataset = data.TensorDataset(*data_arrays)\n",
    "    return data.DataLoader(dataset, batch_size, shuffle=is_train)"
   ]
  },
  {
   "cell_type": "code",
   "execution_count": 14,
   "id": "8ebfd796",
   "metadata": {
    "execution": {
     "iopub.execute_input": "2022-12-07T16:40:08.261653Z",
     "iopub.status.busy": "2022-12-07T16:40:08.261216Z",
     "iopub.status.idle": "2022-12-07T16:40:08.265451Z",
     "shell.execute_reply": "2022-12-07T16:40:08.264679Z"
    },
    "origin_pos": 11,
    "tab": [
     "pytorch"
    ],
    "ExecuteTime": {
     "end_time": "2023-07-13T07:49:03.762872Z",
     "start_time": "2023-07-13T07:49:03.759560Z"
    }
   },
   "outputs": [],
   "source": [
    "batch_size = 10\n",
    "data_iter = load_array((features, labels), batch_size)"
   ]
  },
  {
   "cell_type": "markdown",
   "id": "6e72f0fc",
   "metadata": {
    "origin_pos": 12
   },
   "source": [
    "为了验证是否正常工作，读取并打印第一个小批量样本。\n",
    "这里使用`iter`构造Python迭代器，并使用`next`从迭代器中获取第一项。"
   ]
  },
  {
   "cell_type": "code",
   "execution_count": 15,
   "id": "c385b021",
   "metadata": {
    "execution": {
     "iopub.execute_input": "2022-12-07T16:40:08.268516Z",
     "iopub.status.busy": "2022-12-07T16:40:08.268231Z",
     "iopub.status.idle": "2022-12-07T16:40:08.278118Z",
     "shell.execute_reply": "2022-12-07T16:40:08.277341Z"
    },
    "origin_pos": 13,
    "tab": [
     "pytorch"
    ],
    "ExecuteTime": {
     "end_time": "2023-07-13T07:49:07.440055Z",
     "start_time": "2023-07-13T07:49:07.434097Z"
    }
   },
   "outputs": [
    {
     "data": {
      "text/plain": "[tensor([[-0.9457,  0.0674],\n         [-1.6669, -1.0045],\n         [ 0.4060, -0.0388],\n         [-0.9977,  0.2865],\n         [ 0.0603,  0.8243],\n         [-0.2106, -1.3721],\n         [-0.1296,  2.8483],\n         [ 1.2148, -1.0436],\n         [ 0.3526, -1.7392],\n         [ 0.7038,  0.7988]]),\n tensor([[ 2.0755],\n         [ 4.2878],\n         [ 5.1374],\n         [ 1.2474],\n         [ 1.5300],\n         [ 8.4427],\n         [-5.7454],\n         [10.1777],\n         [10.8107],\n         [ 2.8931]])]"
     },
     "execution_count": 15,
     "metadata": {},
     "output_type": "execute_result"
    }
   ],
   "source": [
    "next(iter(data_iter))"
   ]
  },
  {
   "cell_type": "markdown",
   "id": "be373f37",
   "metadata": {
    "origin_pos": 14
   },
   "source": [
    "## 定义模型\n",
    "\n",
    "对于标准深度学习模型，可以使用框架的预定义好的层。这使我们只需关注使用哪些层来构造模型，而不必关注层的实现细节。\n",
    "我们首先定义一个模型变量`net`，它是一个`Sequential`类的实例。\n",
    "`Sequential`类将多个层串联在一起，当给定输入数据时，`Sequential`实例将数据传入到第一层，然后将第一层的输出作为第二层的输入，以此类推。\n",
    "在下面的例子中，模型只包含一个层，因此实际上不需要`Sequential`，但是由于以后几乎所有的模型都是多层的，在这里使用`Sequential`会让你熟悉“标准的流水线”。\n",
    "\n",
    "在 PyTorch 中，全连接层在`Linear`类中定义。\n",
    "值得注意的是，我们将两个参数传递到`nn.Linear`中，第一个指定输入特征形状，即2，第二个指定输出特征形状，输出特征形状为单个标量，因此为 1。"
   ]
  },
  {
   "cell_type": "code",
   "execution_count": 16,
   "id": "13342bcf",
   "metadata": {
    "execution": {
     "iopub.execute_input": "2022-12-07T16:40:08.282230Z",
     "iopub.status.busy": "2022-12-07T16:40:08.281772Z",
     "iopub.status.idle": "2022-12-07T16:40:08.286290Z",
     "shell.execute_reply": "2022-12-07T16:40:08.285536Z"
    },
    "origin_pos": 20,
    "tab": [
     "pytorch"
    ],
    "ExecuteTime": {
     "end_time": "2023-07-13T07:49:14.038438Z",
     "start_time": "2023-07-13T07:49:14.029684Z"
    }
   },
   "outputs": [],
   "source": [
    "# nn是神经网络的缩写\n",
    "from torch import nn\n",
    "\n",
    "net = nn.Sequential(nn.Linear(2, 1))"
   ]
  },
  {
   "cell_type": "markdown",
   "id": "9d32a0e4",
   "metadata": {
    "origin_pos": 23
   },
   "source": [
    "## 参数初始化\n",
    "\n",
    "在使用`net`之前，需要初始化模型参数，也就是线性回归模型中的权重和偏置。\n",
    "深度学习框架通常有预定义的方法来初始化参数，这里指定每个权重参数应该从均值为0、标准差为0.01的正态分布中随机采样，偏置参数将初始化为零。\n",
    "\n",
    "正如我构造`nn.Linear`时指定输入和输出尺寸一样，能直接访问参数以设定它们的初始值。\n",
    "通过`net[0]`选择网络中的第一个图层，然后使用`weight.data`和`bias.data`方法访问参数。\n",
    "还可以使用替换方法`normal_`和`fill_`来重写参数值。"
   ]
  },
  {
   "cell_type": "code",
   "execution_count": 17,
   "id": "9ea9617d",
   "metadata": {
    "execution": {
     "iopub.execute_input": "2022-12-07T16:40:08.290171Z",
     "iopub.status.busy": "2022-12-07T16:40:08.289637Z",
     "iopub.status.idle": "2022-12-07T16:40:08.295641Z",
     "shell.execute_reply": "2022-12-07T16:40:08.294803Z"
    },
    "origin_pos": 29,
    "tab": [
     "pytorch"
    ],
    "ExecuteTime": {
     "end_time": "2023-07-13T07:49:17.980527Z",
     "start_time": "2023-07-13T07:49:17.968284Z"
    }
   },
   "outputs": [
    {
     "data": {
      "text/plain": "tensor([0.])"
     },
     "execution_count": 17,
     "metadata": {},
     "output_type": "execute_result"
    }
   ],
   "source": [
    "net[0].weight.data.normal_(0, 0.01)\n",
    "net[0].bias.data.fill_(0)"
   ]
  },
  {
   "cell_type": "markdown",
   "id": "6e6949bd",
   "metadata": {
    "origin_pos": 35
   },
   "source": [
    "## 定义损失函数\n",
    "\n",
    "计算均方误差使用的是`MSELoss`类，也称为平方$L_2$范数，默认情况下，它返回所有样本损失的平均值。"
   ]
  },
  {
   "cell_type": "code",
   "execution_count": 18,
   "id": "dae1e123",
   "metadata": {
    "execution": {
     "iopub.execute_input": "2022-12-07T16:40:08.299916Z",
     "iopub.status.busy": "2022-12-07T16:40:08.299231Z",
     "iopub.status.idle": "2022-12-07T16:40:08.303013Z",
     "shell.execute_reply": "2022-12-07T16:40:08.302224Z"
    },
    "origin_pos": 41,
    "tab": [
     "pytorch"
    ],
    "ExecuteTime": {
     "end_time": "2023-07-13T07:49:21.633315Z",
     "start_time": "2023-07-13T07:49:21.630182Z"
    }
   },
   "outputs": [],
   "source": [
    "loss = nn.MSELoss()"
   ]
  },
  {
   "cell_type": "markdown",
   "id": "7e6e941e",
   "metadata": {
    "origin_pos": 44
   },
   "source": [
    "## 定义优化器\n",
    "小批量随机梯度下降算法是一种优化神经网络的标准工具，PyTorch在`optim`模块中实现了该算法的许多变种。\n",
    "当需要实例化一个`SGD`时，要指定优化的参数（可通过`net.parameters()`从模型中获得）以及优化算法所需的超参数字典。\n",
    "小批量随机梯度下降只需要设置`lr`值，这里设置为0.03。"
   ]
  },
  {
   "cell_type": "code",
   "execution_count": 19,
   "id": "7e63bb44",
   "metadata": {
    "execution": {
     "iopub.execute_input": "2022-12-07T16:40:08.306740Z",
     "iopub.status.busy": "2022-12-07T16:40:08.306397Z",
     "iopub.status.idle": "2022-12-07T16:40:08.310518Z",
     "shell.execute_reply": "2022-12-07T16:40:08.309695Z"
    },
    "origin_pos": 50,
    "tab": [
     "pytorch"
    ],
    "ExecuteTime": {
     "end_time": "2023-07-13T07:49:29.412164Z",
     "start_time": "2023-07-13T07:49:29.408609Z"
    }
   },
   "outputs": [],
   "source": [
    "trainer = torch.optim.SGD(net.parameters(), lr=0.03)"
   ]
  },
  {
   "cell_type": "markdown",
   "id": "8cc63069",
   "metadata": {
    "origin_pos": 53
   },
   "source": [
    "## 训练\n",
    "\n",
    "通过深度学习框架来实现的模型只需要相对较少的代码，并且不必单独分配参数、不必定义损失函数，也不必手动实现小批量随机梯度下降。\n",
    "当需要更复杂的模型时，高级函数的优势将大大增加。\n",
    "当有了所有的基本组件，训练过程代码与从零开始实现时所做的非常相似。\n",
    "\n",
    "在每个迭代周期里，将完整遍历一次数据集（`train_data`），不停地从中获取一个batchsize的输入和相应的标签。\n",
    "对于每一个小批量，会进行以下步骤:\n",
    "\n",
    "- 通过调用`net(X)`生成预测并计算损失`l`（前向传播）。\n",
    "- 通过进行反向传播来计算梯度。\n",
    "- 通过调用优化器来更新模型参数。\n",
    "\n",
    "为了更好的衡量训练效果，计算每个迭代周期后的损失，并打印它来监控训练过程。"
   ]
  },
  {
   "cell_type": "code",
   "execution_count": 20,
   "id": "7c7e7f97",
   "metadata": {
    "execution": {
     "iopub.execute_input": "2022-12-07T16:40:08.314209Z",
     "iopub.status.busy": "2022-12-07T16:40:08.313925Z",
     "iopub.status.idle": "2022-12-07T16:40:08.475315Z",
     "shell.execute_reply": "2022-12-07T16:40:08.474324Z"
    },
    "origin_pos": 55,
    "tab": [
     "pytorch"
    ],
    "ExecuteTime": {
     "end_time": "2023-07-13T07:49:39.017721Z",
     "start_time": "2023-07-13T07:49:38.870525Z"
    }
   },
   "outputs": [
    {
     "name": "stdout",
     "output_type": "stream",
     "text": [
      "epoch 1, loss 0.000221\n",
      "epoch 2, loss 0.000104\n",
      "epoch 3, loss 0.000105\n"
     ]
    }
   ],
   "source": [
    "num_epochs = 3\n",
    "for epoch in range(num_epochs):\n",
    "    for X, y in data_iter:\n",
    "        l = loss(net(X) ,y)\n",
    "        trainer.zero_grad()\n",
    "        l.backward()\n",
    "        trainer.step()\n",
    "    l = loss(net(features), labels)\n",
    "    print(f'epoch {epoch + 1}, loss {l:f}')"
   ]
  },
  {
   "cell_type": "markdown",
   "id": "3eb6fef7",
   "metadata": {
    "origin_pos": 58
   },
   "source": [
    "下面，我们比较生成数据集的真实参数和通过有限数据训练获得的模型参数。\n",
    "要访问参数，首先从`net`访问所需的层，然后读取该层的权重和偏置。\n",
    "正如在从零开始实现中一样，我们估计得到的参数与生成数据的真实参数非常接近。"
   ]
  },
  {
   "cell_type": "code",
   "execution_count": 21,
   "id": "cb0a1a73",
   "metadata": {
    "execution": {
     "iopub.execute_input": "2022-12-07T16:40:08.479279Z",
     "iopub.status.busy": "2022-12-07T16:40:08.478697Z",
     "iopub.status.idle": "2022-12-07T16:40:08.484928Z",
     "shell.execute_reply": "2022-12-07T16:40:08.484141Z"
    },
    "origin_pos": 60,
    "tab": [
     "pytorch"
    ],
    "ExecuteTime": {
     "end_time": "2023-07-13T07:49:48.442387Z",
     "start_time": "2023-07-13T07:49:48.429509Z"
    }
   },
   "outputs": [
    {
     "name": "stdout",
     "output_type": "stream",
     "text": [
      "w的估计误差： tensor([0.0006, 0.0004])\n",
      "b的估计误差： tensor([3.0041e-05])\n"
     ]
    }
   ],
   "source": [
    "w = net[0].weight.data\n",
    "print('w的估计误差：', true_w - w.reshape(true_w.shape))\n",
    "b = net[0].bias.data\n",
    "print('b的估计误差：', true_b - b)"
   ]
  }
 ],
 "metadata": {
  "language_info": {
   "name": "python"
  },
  "kernelspec": {
   "name": "python3",
   "language": "python",
   "display_name": "Python 3 (ipykernel)"
  }
 },
 "nbformat": 4,
 "nbformat_minor": 5
}
